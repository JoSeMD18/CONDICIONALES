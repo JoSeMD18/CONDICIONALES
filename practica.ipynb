{
 "cells": [
  {
   "cell_type": "code",
   "execution_count": null,
   "metadata": {},
   "outputs": [],
   "source": [
    "postalcodigo = int(input(\"Ingresa tu código postal:\"))\n",
    "if 50000 <=postalcodigo<=50030:\n",
    "    print(\"Tu CP está dentro del rango de entrega😁\")\n",
    "else:\n",
    "    print(\"Vives muy lejos, no podemos realizar entregas😫\")"
   ]
  },
  {
   "cell_type": "code",
   "execution_count": null,
   "metadata": {},
   "outputs": [],
   "source": [
    "uno = 5\n",
    "dos = 6\n",
    "resultadouno = 5+2\n",
    "resultadodos = 6+1\n",
    "if resultadouno == resultadodos:\n",
    "    print(\"Tus resultados son iguales\")"
   ]
  },
  {
   "cell_type": "code",
   "execution_count": null,
   "metadata": {},
   "outputs": [],
   "source": [
    "postalcodigo = int(input(\"Ingresa tu código postal:\"))\n",
    "if 50000 <=postalcodigo<=50030:\n",
    "    print(\"Tu CP está dentro del rango de entrega😁\")\n",
    "else:\n",
    "    print(\"Vives muy lejos, no podemos realizar entregas😫\")"
   ]
  }
 ],
 "metadata": {
  "kernelspec": {
   "display_name": "Python 3",
   "language": "python",
   "name": "python3"
  },
  "language_info": {
   "name": "python",
   "version": "3.11.3"
  }
 },
 "nbformat": 4,
 "nbformat_minor": 2
}
